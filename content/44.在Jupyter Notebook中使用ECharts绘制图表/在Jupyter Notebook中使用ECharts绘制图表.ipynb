{
 "cells": [
  {
   "cell_type": "code",
   "execution_count": 3,
   "id": "e994c394",
   "metadata": {},
   "outputs": [
    {
     "data": {
      "application/javascript": [
       "requirejs.config({\n",
       "    paths: {\n",
       "        'echarts': './echarts',\n",
       "    }\n",
       "});\n"
      ],
      "text/plain": [
       "<IPython.core.display.Javascript object>"
      ]
     },
     "metadata": {},
     "output_type": "display_data"
    }
   ],
   "source": [
    "%%javascript\n",
    "\n",
    "// 定义一个 require 配置\n",
    "// 通过requirejs.config() 函数可以对requirejs进行灵活的配置，其参数为一个配置对象，paths配置项用于映射要加载的模块路径\n",
    "requirejs.config({\n",
    "    paths: {\n",
    "        'echarts': './echarts',//末尾会自动添加.js， 这里一定要去掉，否则引用失败\n",
    "    }\n",
    "});"
   ]
  },
  {
   "cell_type": "code",
   "execution_count": 5,
   "id": "c67f25a2",
   "metadata": {
    "scrolled": false
   },
   "outputs": [
    {
     "data": {
      "application/javascript": [
       "element.append('<div id=\"chart\" style=\"min-width: 400px; height: 400px\"></div>');\n",
       "(function(element) {\n",
       "    requirejs(['echarts'], function(echarts) {\n",
       "        // 设置图表的参数\n",
       "    var option = {\n",
       "        title: {\n",
       "            text: \"雷达图\"\n",
       "        },\n",
       "\n",
       "        tooltip: {},\n",
       "\n",
       "        // 图例\n",
       "        legend: {},\n",
       "\n",
       "        // 雷达图坐标系组件\n",
       "        radar: {\n",
       "            shape:\"polygon\",// 雷达图绘制类型\n",
       "\n",
       "            // 雷达图的指示器\n",
       "            indicator: [\n",
       "                { name: \"维度一\", max: 280 ,color:\"red\"},// 标签设置为红色\n",
       "                { name: \"维度二\", max: 280 },\n",
       "                { name: \"维度三\", max: 280 },\n",
       "                { name: \"维度四\", max: 280 },\n",
       "                { name: \"维度五\", max: 280 },\n",
       "                { name: \"维度六\", max: 280 },\n",
       "            ],\n",
       "            // 坐标轴轴线相关设置\n",
       "            axisLine:{\n",
       "                // 轴线两边的箭头。可以是字符串，表示两端使用同样的箭头；或者长度为 2 的字符串数组，分别表示两端的箭头。\n",
       "                // 默认不显示箭头，即 'none'，\n",
       "                // 两端都显示箭头可以设置为 'arrow'，\n",
       "                // 只在末端显示箭头可以设置为 ['none', 'arrow']。\n",
       "                symbol:[\"none\",\"arrow\"],\n",
       "                lineStyle:{\n",
       "                    color:\"#333\"\n",
       "                }\n",
       "            },\n",
       "            // 坐标轴刻度相关设置\n",
       "            axisTick:{show:false}, // 不显示坐标轴刻度\n",
       "            // 坐标轴在 grid 区域中的分隔线相关设置\n",
       "            splitLine:{\n",
       "                lineStyle:{\n",
       "                    color:\"red\",\n",
       "                    width:1,\n",
       "                    opacity:0.5\n",
       "                }},\n",
       "            // 坐标轴在 grid 区域中的分隔区域相关设置，默认不显示\n",
       "            splitArea:{\n",
       "                areaStyle:{\n",
       "                    color:['rgba(0,7,255,0.05)','rgba(0,220,255,0.05)']\n",
       "                }\n",
       "            },\n",
       "        },\n",
       "\n",
       "\n",
       "        // 数据系列\n",
       "        series: [{\n",
       "            type: \"radar\",\n",
       "            lineStyle:{width:3},// 线条样式\n",
       "            areaStyle:{opacity:0.4},// 区域填充样式\n",
       "            data: [\n",
       "                { name: \"对象一\", value: [150, 230, 224, 218, 135, 147] },\n",
       "                { name: \"对象二\", value: [100, 200, 260, 200, 180, 190] },\n",
       "                { name: \"对象三\", value: [130, 180, 200, 230, 150, 210] }\n",
       "            ]\n",
       "        }],\n",
       "    };\n",
       "        var myChart = echarts.init(document.getElementById('chart'));\n",
       "        myChart.setOption(option);\n",
       "        return {};\n",
       "    });\n",
       "})(element);\n"
      ],
      "text/plain": [
       "<IPython.core.display.Javascript object>"
      ]
     },
     "metadata": {},
     "output_type": "display_data"
    }
   ],
   "source": [
    "%%javascript\n",
    "\n",
    "// 创建一个容纳图表的容器\n",
    "element.append('<div id=\"chart\" style=\"min-width: 400px; height: 400px\"></div>');\n",
    "\n",
    "// 使用 requirejs 加载 ECharts\n",
    "(function(element) {\n",
    "    // 接收两个函数\n",
    "    // 第一个是一个字符串数组，表示依赖的模块\n",
    "    // 第二个参数是一个函数，参数是前面依赖的模块,在函数中可做逻辑处理，通过return一个对象暴露模块的属性和方法，不在return中的可以认为是私有方法和私有属性\n",
    "    requirejs(['echarts'], function(echarts) {\n",
    "    // 设置图表的参数\n",
    "    var option = {\n",
    "        title: {\n",
    "            text: \"雷达图\"\n",
    "        },\n",
    "\n",
    "        tooltip: {},\n",
    "\n",
    "        legend: {},\n",
    "\n",
    "        radar: {\n",
    "            shape:\"polygon\",\n",
    "            indicator: [\n",
    "                { name: \"维度一\", max: 280 ,color:\"red\"},\n",
    "                { name: \"维度二\", max: 280 },\n",
    "                { name: \"维度三\", max: 280 },\n",
    "                { name: \"维度四\", max: 280 },\n",
    "                { name: \"维度五\", max: 280 },\n",
    "                { name: \"维度六\", max: 280 },\n",
    "            ],\n",
    "            axisLine:{\n",
    "                symbol:[\"none\",\"arrow\"],\n",
    "                lineStyle:{\n",
    "                    color:\"#333\"\n",
    "                }\n",
    "            },\n",
    "            axisTick:{show:false},\n",
    "            splitLine:{\n",
    "                lineStyle:{\n",
    "                    color:\"red\",\n",
    "                    width:1,\n",
    "                    opacity:0.5\n",
    "                }},\n",
    "            splitArea:{\n",
    "                areaStyle:{\n",
    "                    color:['rgba(0,7,255,0.05)','rgba(0,220,255,0.05)']\n",
    "                }\n",
    "            },\n",
    "        },\n",
    "\n",
    "        series: [{\n",
    "            type: \"radar\",\n",
    "            lineStyle:{width:3},\n",
    "            areaStyle:{opacity:0.4},\n",
    "            data: [\n",
    "                { name: \"对象一\", value: [150, 230, 224, 218, 135, 147] },\n",
    "                { name: \"对象二\", value: [100, 200, 260, 200, 180, 190] },\n",
    "                { name: \"对象三\", value: [130, 180, 200, 230, 150, 210] }\n",
    "            ]\n",
    "        }],\n",
    "    };\n",
    "        var myChart = echarts.init(document.getElementById('chart'));\n",
    "        myChart.setOption(option);\n",
    "        return {};\n",
    "    });\n",
    "})(element);"
   ]
  },
  {
   "cell_type": "code",
   "execution_count": null,
   "id": "931af5c0",
   "metadata": {},
   "outputs": [],
   "source": []
  },
  {
   "cell_type": "code",
   "execution_count": null,
   "id": "62e4236c",
   "metadata": {},
   "outputs": [],
   "source": []
  },
  {
   "cell_type": "code",
   "execution_count": null,
   "id": "b91ef65e",
   "metadata": {},
   "outputs": [],
   "source": []
  },
  {
   "cell_type": "code",
   "execution_count": null,
   "id": "84f5449e",
   "metadata": {},
   "outputs": [],
   "source": []
  },
  {
   "cell_type": "code",
   "execution_count": null,
   "id": "6abbc7d2",
   "metadata": {},
   "outputs": [],
   "source": []
  },
  {
   "cell_type": "code",
   "execution_count": null,
   "id": "ddfe6f41",
   "metadata": {},
   "outputs": [],
   "source": []
  },
  {
   "cell_type": "code",
   "execution_count": null,
   "id": "fa720869",
   "metadata": {},
   "outputs": [],
   "source": []
  },
  {
   "cell_type": "code",
   "execution_count": null,
   "id": "7911fbc3",
   "metadata": {},
   "outputs": [],
   "source": []
  },
  {
   "cell_type": "code",
   "execution_count": null,
   "id": "80e79b73",
   "metadata": {},
   "outputs": [],
   "source": []
  },
  {
   "cell_type": "code",
   "execution_count": null,
   "id": "13177776",
   "metadata": {},
   "outputs": [],
   "source": []
  },
  {
   "cell_type": "code",
   "execution_count": null,
   "id": "806f3668",
   "metadata": {},
   "outputs": [],
   "source": []
  },
  {
   "cell_type": "code",
   "execution_count": null,
   "id": "53501b48",
   "metadata": {},
   "outputs": [],
   "source": []
  },
  {
   "cell_type": "code",
   "execution_count": null,
   "id": "843832da",
   "metadata": {},
   "outputs": [],
   "source": []
  },
  {
   "cell_type": "code",
   "execution_count": null,
   "id": "7c5597eb",
   "metadata": {},
   "outputs": [],
   "source": []
  },
  {
   "cell_type": "code",
   "execution_count": null,
   "id": "9162362f",
   "metadata": {},
   "outputs": [],
   "source": []
  },
  {
   "cell_type": "code",
   "execution_count": null,
   "id": "b5844904",
   "metadata": {},
   "outputs": [],
   "source": []
  },
  {
   "cell_type": "code",
   "execution_count": null,
   "id": "f9ec0c07",
   "metadata": {},
   "outputs": [],
   "source": []
  }
 ],
 "metadata": {
  "kernelspec": {
   "display_name": "Python 3 (ipykernel)",
   "language": "python",
   "name": "python3"
  },
  "language_info": {
   "codemirror_mode": {
    "name": "ipython",
    "version": 3
   },
   "file_extension": ".py",
   "mimetype": "text/x-python",
   "name": "python",
   "nbconvert_exporter": "python",
   "pygments_lexer": "ipython3",
   "version": "3.9.16"
  }
 },
 "nbformat": 4,
 "nbformat_minor": 5
}
